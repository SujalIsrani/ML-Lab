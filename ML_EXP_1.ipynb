{
 "cells": [
  {
   "cell_type": "code",
   "execution_count": 1,
   "id": "da19c5fb",
   "metadata": {},
   "outputs": [],
   "source": [
    "import pandas as pd\n",
    "import numpy as np\n",
    "import matplotlib.pyplot as plt\n",
    "import seaborn as sns\n",
    "\n",
    "from sklearn.impute import SimpleImputer\n",
    "from sklearn.preprocessing import LabelEncoder, OneHotEncoder, StandardScaler\n",
    "from sklearn.model_selection import train_test_split\n",
    "from sklearn.compose import ColumnTransformer\n",
    "from sklearn.pipeline import Pipeline\n",
    "from sklearn.ensemble import RandomForestClassifier\n",
    "from sklearn.metrics import classification_report\n",
    "from imblearn.over_sampling import SMOTE\n",
    "\n",
    "import warnings\n",
    "warnings.filterwarnings('ignore')"
   ]
  },
  {
   "cell_type": "code",
   "execution_count": 2,
   "id": "f9490cc4",
   "metadata": {},
   "outputs": [
    {
     "data": {
      "text/html": [
       "<div>\n",
       "<style scoped>\n",
       "    .dataframe tbody tr th:only-of-type {\n",
       "        vertical-align: middle;\n",
       "    }\n",
       "\n",
       "    .dataframe tbody tr th {\n",
       "        vertical-align: top;\n",
       "    }\n",
       "\n",
       "    .dataframe thead th {\n",
       "        text-align: right;\n",
       "    }\n",
       "</style>\n",
       "<table border=\"1\" class=\"dataframe\">\n",
       "  <thead>\n",
       "    <tr style=\"text-align: right;\">\n",
       "      <th></th>\n",
       "      <th>Age</th>\n",
       "      <th>Income</th>\n",
       "      <th>Education_Level</th>\n",
       "      <th>Marital_Status</th>\n",
       "      <th>Defaulted</th>\n",
       "    </tr>\n",
       "  </thead>\n",
       "  <tbody>\n",
       "    <tr>\n",
       "      <th>0</th>\n",
       "      <td>21.735793</td>\n",
       "      <td>37167.329630</td>\n",
       "      <td>High School</td>\n",
       "      <td>Divorced</td>\n",
       "      <td>0</td>\n",
       "    </tr>\n",
       "    <tr>\n",
       "      <th>1</th>\n",
       "      <td>42.527021</td>\n",
       "      <td>40687.321711</td>\n",
       "      <td>High School</td>\n",
       "      <td>Single</td>\n",
       "      <td>0</td>\n",
       "    </tr>\n",
       "    <tr>\n",
       "      <th>2</th>\n",
       "      <td>29.529047</td>\n",
       "      <td>330497.864135</td>\n",
       "      <td>High School</td>\n",
       "      <td>Married</td>\n",
       "      <td>0</td>\n",
       "    </tr>\n",
       "    <tr>\n",
       "      <th>3</th>\n",
       "      <td>36.635733</td>\n",
       "      <td>62253.076700</td>\n",
       "      <td>High School</td>\n",
       "      <td>Married</td>\n",
       "      <td>0</td>\n",
       "    </tr>\n",
       "    <tr>\n",
       "      <th>4</th>\n",
       "      <td>30.651742</td>\n",
       "      <td>66498.574264</td>\n",
       "      <td>High School</td>\n",
       "      <td>Single</td>\n",
       "      <td>0</td>\n",
       "    </tr>\n",
       "  </tbody>\n",
       "</table>\n",
       "</div>"
      ],
      "text/plain": [
       "         Age         Income Education_Level Marital_Status  Defaulted\n",
       "0  21.735793   37167.329630     High School       Divorced          0\n",
       "1  42.527021   40687.321711     High School         Single          0\n",
       "2  29.529047  330497.864135     High School        Married          0\n",
       "3  36.635733   62253.076700     High School        Married          0\n",
       "4  30.651742   66498.574264     High School         Single          0"
      ]
     },
     "execution_count": 2,
     "metadata": {},
     "output_type": "execute_result"
    }
   ],
   "source": [
    "# Load the dataset\n",
    "df = pd.read_csv('synthetic_ml_dataset.csv')\n",
    "\n",
    "# Display first few rows\n",
    "df.head()"
   ]
  },
  {
   "cell_type": "code",
   "execution_count": 3,
   "id": "3fc7f358",
   "metadata": {},
   "outputs": [
    {
     "name": "stdout",
     "output_type": "stream",
     "text": [
      "Shape: (250, 5)\n",
      "Columns: ['Age', 'Income', 'Education_Level', 'Marital_Status', 'Defaulted']\n",
      "\n",
      "Data Types:\n",
      " Age                float64\n",
      "Income             float64\n",
      "Education_Level     object\n",
      "Marital_Status      object\n",
      "Defaulted            int64\n",
      "dtype: object\n",
      "\n",
      "Summary Statistics:\n",
      "                Age         Income Education_Level Marital_Status   Defaulted\n",
      "count   238.000000     238.000000             238            243  250.000000\n",
      "unique         NaN            NaN               4              3         NaN\n",
      "top            NaN            NaN       Bachelors        Married         NaN\n",
      "freq           NaN            NaN              98            105         NaN\n",
      "mean     33.543722   56866.820457             NaN            NaN    0.160000\n",
      "std      10.100447   44917.446367             NaN            NaN    0.367341\n",
      "min       1.115719    7906.743358             NaN            NaN    0.000000\n",
      "25%      27.234608   40904.528394             NaN            NaN    0.000000\n",
      "50%      34.075268   49920.901704             NaN            NaN    0.000000\n",
      "75%      40.461804   62092.480138             NaN            NaN    0.000000\n",
      "max      61.292126  431136.340467             NaN            NaN    1.000000\n"
     ]
    }
   ],
   "source": [
    "# Shape\n",
    "print(\"Shape:\", df.shape)\n",
    "\n",
    "# Column names\n",
    "print(\"Columns:\", df.columns.tolist())\n",
    "\n",
    "# Data types and summary\n",
    "print(\"\\nData Types:\\n\", df.dtypes)\n",
    "print(\"\\nSummary Statistics:\\n\", df.describe(include='all'))"
   ]
  },
  {
   "cell_type": "code",
   "execution_count": 4,
   "id": "d57a2eff",
   "metadata": {},
   "outputs": [
    {
     "name": "stdout",
     "output_type": "stream",
     "text": [
      "Missing values:\n",
      " Age                12\n",
      "Income             12\n",
      "Education_Level    12\n",
      "Marital_Status      7\n",
      "Defaulted           0\n",
      "dtype: int64\n"
     ]
    },
    {
     "data": {
      "text/plain": [
       "Age                0\n",
       "Income             0\n",
       "Education_Level    0\n",
       "Marital_Status     0\n",
       "Defaulted          0\n",
       "dtype: int64"
      ]
     },
     "execution_count": 4,
     "metadata": {},
     "output_type": "execute_result"
    }
   ],
   "source": [
    "# Check missing values\n",
    "print(\"Missing values:\\n\", df.isnull().sum())\n",
    "\n",
    "# Impute numeric features\n",
    "num_imputer = SimpleImputer(strategy='mean')\n",
    "df[['Age', 'Income']] = num_imputer.fit_transform(df[['Age', 'Income']])\n",
    "\n",
    "# Impute categorical features with mode\n",
    "cat_imputer = SimpleImputer(strategy='most_frequent')\n",
    "df[['Education_Level', 'Marital_Status']] = cat_imputer.fit_transform(df[['Education_Level', 'Marital_Status']])\n",
    "\n",
    "# Verify\n",
    "df.isnull().sum()"
   ]
  },
  {
   "cell_type": "code",
   "execution_count": 5,
   "id": "eaf811d4",
   "metadata": {},
   "outputs": [
    {
     "data": {
      "text/html": [
       "<div>\n",
       "<style scoped>\n",
       "    .dataframe tbody tr th:only-of-type {\n",
       "        vertical-align: middle;\n",
       "    }\n",
       "\n",
       "    .dataframe tbody tr th {\n",
       "        vertical-align: top;\n",
       "    }\n",
       "\n",
       "    .dataframe thead th {\n",
       "        text-align: right;\n",
       "    }\n",
       "</style>\n",
       "<table border=\"1\" class=\"dataframe\">\n",
       "  <thead>\n",
       "    <tr style=\"text-align: right;\">\n",
       "      <th></th>\n",
       "      <th>Age</th>\n",
       "      <th>Income</th>\n",
       "      <th>Education_Level</th>\n",
       "      <th>Defaulted</th>\n",
       "      <th>Marital_Status_Married</th>\n",
       "      <th>Marital_Status_Single</th>\n",
       "    </tr>\n",
       "  </thead>\n",
       "  <tbody>\n",
       "    <tr>\n",
       "      <th>0</th>\n",
       "      <td>21.735793</td>\n",
       "      <td>37167.329630</td>\n",
       "      <td>0</td>\n",
       "      <td>0</td>\n",
       "      <td>False</td>\n",
       "      <td>False</td>\n",
       "    </tr>\n",
       "    <tr>\n",
       "      <th>1</th>\n",
       "      <td>42.527021</td>\n",
       "      <td>40687.321711</td>\n",
       "      <td>0</td>\n",
       "      <td>0</td>\n",
       "      <td>False</td>\n",
       "      <td>True</td>\n",
       "    </tr>\n",
       "    <tr>\n",
       "      <th>2</th>\n",
       "      <td>29.529047</td>\n",
       "      <td>330497.864135</td>\n",
       "      <td>0</td>\n",
       "      <td>0</td>\n",
       "      <td>True</td>\n",
       "      <td>False</td>\n",
       "    </tr>\n",
       "    <tr>\n",
       "      <th>3</th>\n",
       "      <td>36.635733</td>\n",
       "      <td>62253.076700</td>\n",
       "      <td>0</td>\n",
       "      <td>0</td>\n",
       "      <td>True</td>\n",
       "      <td>False</td>\n",
       "    </tr>\n",
       "    <tr>\n",
       "      <th>4</th>\n",
       "      <td>30.651742</td>\n",
       "      <td>66498.574264</td>\n",
       "      <td>0</td>\n",
       "      <td>0</td>\n",
       "      <td>False</td>\n",
       "      <td>True</td>\n",
       "    </tr>\n",
       "  </tbody>\n",
       "</table>\n",
       "</div>"
      ],
      "text/plain": [
       "         Age         Income  Education_Level  Defaulted  \\\n",
       "0  21.735793   37167.329630                0          0   \n",
       "1  42.527021   40687.321711                0          0   \n",
       "2  29.529047  330497.864135                0          0   \n",
       "3  36.635733   62253.076700                0          0   \n",
       "4  30.651742   66498.574264                0          0   \n",
       "\n",
       "   Marital_Status_Married  Marital_Status_Single  \n",
       "0                   False                  False  \n",
       "1                   False                   True  \n",
       "2                    True                  False  \n",
       "3                    True                  False  \n",
       "4                   False                   True  "
      ]
     },
     "execution_count": 5,
     "metadata": {},
     "output_type": "execute_result"
    }
   ],
   "source": [
    "# Encode ordinal categorical variable (Education)\n",
    "education_order = ['High School', 'Bachelors', 'Masters', 'PhD']\n",
    "df['Education_Level'] = pd.Categorical(df['Education_Level'], categories=education_order, ordered=True)\n",
    "df['Education_Level'] = df['Education_Level'].cat.codes\n",
    "\n",
    "# One-hot encode nominal categorical variable (Marital_Status)\n",
    "df = pd.get_dummies(df, columns=['Marital_Status'], drop_first=True)\n",
    "\n",
    "df.head()"
   ]
  },
  {
   "cell_type": "code",
   "execution_count": 6,
   "id": "a9f2b7bb",
   "metadata": {},
   "outputs": [
    {
     "data": {
      "image/png": "[encoded data removed]",
      "text/plain": [
       "<Figure size 640x480 with 1 Axes>"
      ]
     },
     "metadata": {},
     "output_type": "display_data"
    },
    {
     "data": {
      "image/png": "[encoded data removed]",
      "text/plain": [
       "<Figure size 640x480 with 1 Axes>"
      ]
     },
     "metadata": {},
     "output_type": "display_data"
    }
   ],
   "source": [
    "# Boxplot before removing outliers\n",
    "sns.boxplot(df['Income'])\n",
    "plt.title(\"Income Boxplot (Before)\")\n",
    "plt.show()\n",
    "\n",
    "# Detect outliers using IQR\n",
    "Q1 = df['Income'].quantile(0.25)\n",
    "Q3 = df['Income'].quantile(0.75)\n",
    "IQR = Q3 - Q1\n",
    "lower_bound = Q1 - 1.5 * IQR\n",
    "upper_bound = Q3 + 1.5 * IQR\n",
    "\n",
    "# Cap outliers\n",
    "df['Income'] = np.where(df['Income'] > upper_bound, upper_bound, \n",
    "                        np.where(df['Income'] < lower_bound, lower_bound, df['Income']))\n",
    "\n",
    "# Boxplot after handling outliers\n",
    "sns.boxplot(df['Income'])\n",
    "plt.title(\"Income Boxplot (After)\")\n",
    "plt.show()"
   ]
  },
  {
   "cell_type": "code",
   "execution_count": 7,
   "id": "4b97db9d",
   "metadata": {},
   "outputs": [
    {
     "name": "stdout",
     "output_type": "stream",
     "text": [
      "Before SMOTE:\n",
      " Defaulted\n",
      "0    210\n",
      "1     40\n",
      "Name: count, dtype: int64\n",
      "After SMOTE:\n",
      " Defaulted\n",
      "0    210\n",
      "1    210\n",
      "Name: count, dtype: int64\n"
     ]
    }
   ],
   "source": [
    "# Features and target\n",
    "X = df.drop('Defaulted', axis=1)\n",
    "y = df['Defaulted']\n",
    "\n",
    "# Check class distribution before\n",
    "print(\"Before SMOTE:\\n\", y.value_counts())\n",
    "\n",
    "# Apply SMOTE\n",
    "sm = SMOTE(random_state=42)\n",
    "X_resampled, y_resampled = sm.fit_resample(X, y)\n",
    "\n",
    "# Check class distribution after\n",
    "print(\"After SMOTE:\\n\", pd.Series(y_resampled).value_counts())"
   ]
  },
  {
   "cell_type": "code",
   "execution_count": 8,
   "id": "7bdf2e14",
   "metadata": {},
   "outputs": [
    {
     "data": {
      "text/html": [
       "<div>\n",
       "<style scoped>\n",
       "    .dataframe tbody tr th:only-of-type {\n",
       "        vertical-align: middle;\n",
       "    }\n",
       "\n",
       "    .dataframe tbody tr th {\n",
       "        vertical-align: top;\n",
       "    }\n",
       "\n",
       "    .dataframe thead th {\n",
       "        text-align: right;\n",
       "    }\n",
       "</style>\n",
       "<table border=\"1\" class=\"dataframe\">\n",
       "  <thead>\n",
       "    <tr style=\"text-align: right;\">\n",
       "      <th></th>\n",
       "      <th>Age</th>\n",
       "      <th>Income</th>\n",
       "      <th>Education_Level</th>\n",
       "      <th>Marital_Status_Married</th>\n",
       "      <th>Marital_Status_Single</th>\n",
       "    </tr>\n",
       "  </thead>\n",
       "  <tbody>\n",
       "    <tr>\n",
       "      <th>0</th>\n",
       "      <td>-1.342849</td>\n",
       "      <td>-0.689154</td>\n",
       "      <td>-1.059842</td>\n",
       "      <td>-1.048809</td>\n",
       "      <td>-1.033908</td>\n",
       "    </tr>\n",
       "    <tr>\n",
       "      <th>1</th>\n",
       "      <td>0.925909</td>\n",
       "      <td>-0.435879</td>\n",
       "      <td>-1.059842</td>\n",
       "      <td>-1.048809</td>\n",
       "      <td>0.967204</td>\n",
       "    </tr>\n",
       "    <tr>\n",
       "      <th>2</th>\n",
       "      <td>-0.492442</td>\n",
       "      <td>1.864333</td>\n",
       "      <td>-1.059842</td>\n",
       "      <td>0.953463</td>\n",
       "      <td>-1.033908</td>\n",
       "    </tr>\n",
       "    <tr>\n",
       "      <th>3</th>\n",
       "      <td>0.283046</td>\n",
       "      <td>0.754540</td>\n",
       "      <td>-1.059842</td>\n",
       "      <td>0.953463</td>\n",
       "      <td>-1.033908</td>\n",
       "    </tr>\n",
       "    <tr>\n",
       "      <th>4</th>\n",
       "      <td>-0.369933</td>\n",
       "      <td>0.939202</td>\n",
       "      <td>-1.059842</td>\n",
       "      <td>-1.048809</td>\n",
       "      <td>0.967204</td>\n",
       "    </tr>\n",
       "  </tbody>\n",
       "</table>\n",
       "</div>"
      ],
      "text/plain": [
       "        Age    Income  Education_Level  Marital_Status_Married  \\\n",
       "0 -1.342849 -0.689154        -1.059842               -1.048809   \n",
       "1  0.925909 -0.435879        -1.059842               -1.048809   \n",
       "2 -0.492442  1.864333        -1.059842                0.953463   \n",
       "3  0.283046  0.754540        -1.059842                0.953463   \n",
       "4 -0.369933  0.939202        -1.059842               -1.048809   \n",
       "\n",
       "   Marital_Status_Single  \n",
       "0              -1.033908  \n",
       "1               0.967204  \n",
       "2              -1.033908  \n",
       "3              -1.033908  \n",
       "4               0.967204  "
      ]
     },
     "execution_count": 8,
     "metadata": {},
     "output_type": "execute_result"
    }
   ],
   "source": [
    "# Log-transform Income to reduce skew\n",
    "X_resampled['Income'] = np.log1p(X_resampled['Income'])\n",
    "\n",
    "# Normalize all features (optional but useful for many ML models)\n",
    "scaler = StandardScaler()\n",
    "X_scaled = scaler.fit_transform(X_resampled)\n",
    "\n",
    "# Convert to DataFrame again for inspection\n",
    "X_scaled_df = pd.DataFrame(X_scaled, columns=X.columns)\n",
    "X_scaled_df.head()"
   ]
  },
  {
   "cell_type": "code",
   "execution_count": 9,
   "id": "b02d2df9",
   "metadata": {},
   "outputs": [
    {
     "name": "stdout",
     "output_type": "stream",
     "text": [
      "Training shape: (294, 5)\n",
      "Testing shape: (126, 5)\n"
     ]
    }
   ],
   "source": [
    "# Final split for model training\n",
    "X_train, X_test, y_train, y_test = train_test_split(X_scaled, y_resampled, test_size=0.3, random_state=42)\n",
    "\n",
    "print(\"Training shape:\", X_train.shape)\n",
    "print(\"Testing shape:\", X_test.shape)"
   ]
  }
 ],
 "metadata": {
  "kernelspec": {
   "display_name": "venv",
   "language": "python",
   "name": "python3"
  },
  "language_info": {
   "codemirror_mode": {
    "name": "ipython",
    "version": 3
   },
   "file_extension": ".py",
   "mimetype": "text/x-python",
   "name": "python",
   "nbconvert_exporter": "python",
   "pygments_lexer": "ipython3",
   "version": "3.13.1"
  }
 },
 "nbformat": 4,
 "nbformat_minor": 5
}
